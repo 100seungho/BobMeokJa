{
 "cells": [
  {
   "cell_type": "code",
   "execution_count": 45,
   "metadata": {},
   "outputs": [],
   "source": [
    "from bs4 import BeautifulSoup\n",
    "import urllib.request\n",
    "import urllib.parse\n",
    "\n",
    "web_url = \"http://snuco.snu.ac.kr/ko/foodmenu?field_menu_date_value_1[value][date]=&field_menu_date_value[value][date]=12/19/2019\"\n",
    "\n",
    "with urllib.request.urlopen(web_url) as response:\n",
    "    html = response.read()\n",
    "    soup = BeautifulSoup(html, 'html.parser')"
   ]
  },
  {
   "cell_type": "code",
   "execution_count": 79,
   "metadata": {},
   "outputs": [],
   "source": [
    "table = soup.find(class_ = 'views-table cols-4')"
   ]
  },
  {
   "cell_type": "code",
   "execution_count": 49,
   "metadata": {},
   "outputs": [],
   "source": [
    "restaurant = table.find_all(class_ = \"views-field views-field-field-restaurant\")"
   ]
  },
  {
   "cell_type": "code",
   "execution_count": 75,
   "metadata": {},
   "outputs": [],
   "source": [
    "restaurant = [item.get_text() for item in soup.find_all(class_ = 'views-field views-field-field-restaurant')]"
   ]
  },
  {
   "cell_type": "code",
   "execution_count": 76,
   "metadata": {},
   "outputs": [
    {
     "name": "stdout",
     "output_type": "stream",
     "text": [
      "['\\n            식당          ', '\\n            학생회관식당(880-5543)          ', '\\n            자하연식당(880-7888)          ', '\\n            예술계식당(876-1006)          ', '\\n            소담마루(880-8698)          ', '\\n            샤반(871-6933)          ', '\\n            라운지오(882-7005)          ', '\\n            두레미담(880-9358)          ', '\\n            동원관식당(880-8697)          ', '\\n            기숙사식당(881-9072)          ', '\\n            공대간이식당(889-8956)          ', '\\n            감골식당(880-5544)          ', '\\n            4식당(889-6946)          ', '\\n            3식당(880-5545)          ', '\\n            302동식당(880-1939)          ', '\\n            301동식당(889-8955)          ', '\\n            220동식당(875-0240)          ']\n"
     ]
    }
   ],
   "source": [
    "print(restaurant)"
   ]
  },
  {
   "cell_type": "code",
   "execution_count": 82,
   "metadata": {},
   "outputs": [],
   "source": [
    "breakfast = [item.get_text() for item in soup.find_all(class_ = 'views-field views-field-field-breakfast')]"
   ]
  },
  {
   "cell_type": "code",
   "execution_count": 86,
   "metadata": {},
   "outputs": [],
   "source": [
    "lunch = [item.get_text() for item in soup.find_all(class_ = 'views-field views-field-field-lunch')]"
   ]
  },
  {
   "cell_type": "code",
   "execution_count": 83,
   "metadata": {},
   "outputs": [],
   "source": [
    "dinner = [item.get_text() for item in soup.find_all(class_ = 'views-field views-field-field-dinner')]"
   ]
  },
  {
   "cell_type": "code",
   "execution_count": 89,
   "metadata": {},
   "outputs": [
    {
     "name": "stdout",
     "output_type": "stream",
     "text": [
      "\n",
      "            자하연식당(880-7888)           \n",
      " \n",
      "인삼녹두영양닭죽 3,000원\n",
      "제육보쌈&막국수 4,000원\n",
      " \n",
      " \n",
      "만두김치전골 3,000원\n",
      "올리브스테이크 4,000원\n",
      "\n"
     ]
    }
   ],
   "source": [
    "print(restaurant[2], breakfast[2], lunch[2], dinner[2])"
   ]
  },
  {
   "cell_type": "code",
   "execution_count": 92,
   "metadata": {},
   "outputs": [],
   "source": [
    "def get_meal(i):\n",
    "    return print(restaurant[i], breakfast[i], lunch[i], dinner[i])"
   ]
  },
  {
   "cell_type": "code",
   "execution_count": 93,
   "metadata": {},
   "outputs": [
    {
     "name": "stdout",
     "output_type": "stream",
     "text": [
      "\n",
      "            샤반(871-6933)           \n",
      " \n",
      "한식 Serving 메뉴\n",
      " \n",
      "한식 Serving 메뉴\n",
      "\n"
     ]
    }
   ],
   "source": [
    "get_meal(5)"
   ]
  },
  {
   "cell_type": "code",
   "execution_count": null,
   "metadata": {},
   "outputs": [],
   "source": []
  }
 ],
 "metadata": {
  "kernelspec": {
   "display_name": "Python 3",
   "language": "python",
   "name": "python3"
  },
  "language_info": {
   "codemirror_mode": {
    "name": "ipython",
    "version": 3
   },
   "file_extension": ".py",
   "mimetype": "text/x-python",
   "name": "python",
   "nbconvert_exporter": "python",
   "pygments_lexer": "ipython3",
   "version": "3.6.0"
  }
 },
 "nbformat": 4,
 "nbformat_minor": 4
}
