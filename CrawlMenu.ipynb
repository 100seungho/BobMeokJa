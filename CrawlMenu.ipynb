{
 "cells": [
  {
   "cell_type": "code",
   "execution_count": 48,
   "metadata": {},
   "outputs": [],
   "source": [
    "from bs4 import BeautifulSoup\n",
    "import urllib.request\n",
    "import urllib.parse\n",
    "\n",
    "web_url = \"http://snuco.snu.ac.kr/ko/foodmenu?field_menu_date_value_1[value][date]=&field_menu_date_value[value][date]=01/15/2020\"\n",
    "\n",
    "with urllib.request.urlopen(web_url) as response:\n",
    "    html = response.read()\n",
    "    soup = BeautifulSoup(html, 'html.parser')"
   ]
  },
  {
   "cell_type": "code",
   "execution_count": 49,
   "metadata": {},
   "outputs": [],
   "source": [
    "tbody = soup.find('tbody')\n",
    "table_rows = tbody.find_all('tr')"
   ]
  },
  {
   "cell_type": "code",
   "execution_count": 50,
   "metadata": {},
   "outputs": [
    {
     "name": "stdout",
     "output_type": "stream",
     "text": [
      "\n",
      "            학생회관식당(880-5543)           \n",
      "제육숙주볶음  1,700원\n",
      " \n",
      "수원왕갈비맛치킨  3,500원\n",
      "제육감자고추장찌개  1,700원\n",
      "뚝배기감바스&오일파스타(#)  5,500원\n",
      " \n",
      "마라우육덮밥  3,500원\n",
      "어묵탕(#)  1,700원\n",
      "\n",
      "\n",
      "            자하연식당(880-7888)           \n",
      " \n",
      "만두김치전골 3,000원\n",
      "자반고등어구이# 3,000원\n",
      " \n",
      "쇠고기버섯전골 3,000원\n",
      "닭볶음탕 4,000원\n",
      "\n",
      "\n",
      "            예술계식당(876-1006)           \n",
      " \n",
      "철판 오징어떡야채볶음 & 삼색달걀찜 5,000원\n",
      "남도떡갈비 오므라이스 & 냉파스타샐러드 5,000원\n",
      " \n",
      "철판 치즈김치햄볶음밥 & 양념감자튀김 4,500원\n",
      "\n",
      "\n",
      "            소담마루(880-8698)           \n",
      " \n",
      "한일식 Serving 메뉴\n",
      " \n",
      "한일식 Serving 메뉴\n",
      "\n",
      "\n",
      "            샤반(871-6933)           \n",
      " \n",
      "한식 Serving 메뉴\n",
      " \n",
      "한식 Serving 메뉴\n",
      "\n",
      "\n",
      "            라운지오(882-7005)           \n",
      " \n",
      "피자, 스파게티류\n",
      " \n",
      "피자, 스파게티류\n",
      "\n",
      "\n",
      "            두레미담(880-9358)           \n",
      " \n",
      "<셀프(뷔페)코너>  6,000원\n",
      "잡곡밥, 콩나물국, 매콤닭볶음탕, 고구마고로케*케찹, 견과류멸치볶음, 열무된장나물, 김치, 그린샐러드, 오늘의차 \n",
      "<주문식 코너>\n",
      "묵은지김치찌개  8,000원\n",
      "차돌된장찌개  8,000원\n",
      "바지락칼국수&왕만두  10,000원\n",
      "홍합짬뽕&공기밥  10,000원\n",
      "해물순두부  10,000원\n",
      "고등어무조림정식 10,000원\n",
      "떡만두국정식  10,000원\n",
      "고등어구이정식  11,000원\n",
      "전복해물된장찌개  12,000원\n",
      "삼겹보쌈정식  12,000원\n",
      "철판주꾸미볶음정식  12,000원\n",
      "철판제육볶음정식  12,000원\n",
      "소갈비탕  13,000원\n",
      "7선산채비빔밥 13,000원\n",
      "미담삼계탕  13,000원\n",
      "장어한마리덮밥정식  15,000원\n",
      "해물파전  15,000원\n",
      "능이버섯삼계탕  16,000원\n",
      "한우불고기정식  17,000원\n",
      "한우등심샤브샤브  19,000원\n",
      "전복삼계탕  19,500원\n",
      "전복한우등심샤브샤브  25,000원\n",
      " \n",
      "<셀프(뷔페)코너>  6,000원\n",
      "잡곡밥, 두부된장찌개, 제육고추장불고기, 유린기, 볼어묵야채볶음, 얼갈이겉절이, 깍두기, 그린샐러드, 오늘의차 \n",
      "<주문식 코너>\n",
      "묵은지김치찌개  8,000원\n",
      "차돌된장찌개  8,000원\n",
      "바지락칼국수&왕만두  10,000원\n",
      "홍합짬뽕&공기밥  10,000원\n",
      "해물순두부  10,000원\n",
      "고등어무조림정식 10,000원\n",
      "떡만두국정식  10,000원\n",
      "고등어구이정식  11,000원\n",
      "전복해물된장찌개  12,000원\n",
      "삼겹보쌈정식  12,000원\n",
      "철판주꾸미볶음정식  12,000원\n",
      "철판제육볶음정식  12,000원\n",
      "소갈비탕  13,000원\n",
      "7선산채비빔밥 13,000원\n",
      "미담삼계탕  13,000원\n",
      "장어한마리덮밥정식  15,000원\n",
      "해물파전  15,000원\n",
      "능이버섯삼계탕  16,000원\n",
      "한우불고기정식  17,000원\n",
      "한우등심샤브샤브  19,000원\n",
      "전복삼계탕  19,500원\n",
      "전복한우등심샤브샤브  25,000원\n",
      "\n",
      "\n",
      "            동원관식당(880-8697)           \n",
      " \n",
      "중국식볶음밥&짜장소스  3,000원\n",
      "감자탕  3,000원\n",
      " \n",
      "\n",
      "\n",
      "            기숙사식당(881-9072)           \n",
      "쇠고기미역국&오징어채소무침  3,000원\n",
      " \n",
      "제육쌈정식  4,000원\n",
      "돌솥들꺠순두부(#)  3,000원\n",
      " \n",
      "연어덮밥(#)  4,000원\n",
      "오코노미온더치킨까스  4,000원\n",
      "\n",
      "\n",
      "            공대간이식당(889-8956)           \n",
      " \n",
      "유린 까스 3,200원미니 탕수육 3,500원고기 소보로 볶음밥 3,500원공간 짜장면 3,500원사천 짜장면 3,500원공간 짬뽕 / 밥 3,500원짜장면 / 짬뽕 곱빼기 4,000원공간 짬짜면 4,500원순두부 만두 짬뽕 4,800원비빔 짬짜면5,200원부대짬뽕 5,200원짬짜탕면 6,500원치킨탕수육 7,000원\n",
      " \n",
      "유린 까스 3,200원미니 탕수육 3,500원고기 소보로 볶음밥 3,500원공간 짜장면 3,500원사천 짜장면 3,500원공간 짬뽕 / 밥 3,500원짜장면 / 짬뽕 곱빼기 4,000원공간 짬짜면 4,500원순두부 만두 짬뽕 4,800원비빔 짬짜면5,200원부대짬뽕 5,200원짬짜탕면 6,500원치킨탕수육 7,000원\n",
      "\n",
      "\n",
      "            감골식당(880-5544)           \n",
      " \n",
      "등심돈가스+미니우동 4,000원\n",
      "(HALAL) 코코넛게살버섯커리 5,000원\n",
      "(채식) 콩고기데리야끼볶음, 두부조림, 사모사&스위트칠리, 브로콜리숙회, 다시마쌈, 얼갈이된장국, 차조야채죽, DIY샐러드, 백김치, 과일, 음료 6,500원\n",
      " \n",
      "불닭오므라이스+고구마맛탕 4,000원\n",
      "\n",
      "\n",
      "            4식당(889-6946)           \n",
      " \n",
      "뚝배기쇠고기샤브샤브  4,500원\n",
      "닭갈비야채덮밥  4,000원\n",
      " \n",
      " \n",
      "모닥치기(국물떡볶이,튀김,순대)  4,500원\n",
      " \n",
      "\n",
      "\n",
      "            3식당(880-5545)           \n",
      " \n",
      "알참치덮밥(#)  3,000원\n",
      "만두갈비탕  4,000원\n",
      "불고기필라프  3,000원\n",
      "닭양념구이  4,000원\n",
      " \n",
      "올리브스테이크  4,000원\n",
      "감자수제비(#)  2,500원\n",
      "\n",
      "\n",
      "            302동식당(880-1939)           \n",
      " \n",
      "특식 제공으로 중식 메뉴 한가지만 제공\n",
      "뿌팟퐁커리&파인애플볶음밥(#)  5,500원\n",
      " \n",
      "추어탕(#)  3,000원\n",
      "치즈돈까스&쫄면  4,000원\n",
      "\n",
      "\n",
      "            301동식당(889-8955)           \n",
      " \n",
      "<301푸드코트>\n",
      " 제육돌솥비빔밥 4,500원\n",
      " 바지락순두부찌개 4,800원\n",
      " 꼬치어묵우동 3,500원\n",
      " 햄마요덮밥 3,500원\n",
      " 치킨카레덮밥 4,300원\n",
      " 매운마라탕면 5,500원\n",
      " 등심돈가스 4,000원\n",
      " 뼈다귀감자탕전골 11,000원\n",
      "<교직원식당>\n",
      "봄 6,000원\n",
      "눈꽃치즈제육덮밥&꽈배기, 두부장국\n",
      "소반 5,500원\n",
      "나주곰탕*당면, 오징어김치전\n",
      "메추리알곤약조림, 봄동겉절이, 깍두기, 쌀밥, 키드니빈스샐러드\n",
      " \n",
      "<301푸드코트>\n",
      " 제육돌솥비빔밥 4,500원\n",
      " 바지락순두부찌개 4,800원\n",
      " 꼬치어묵우동 3,500원\n",
      " 햄마요덮밥 3,500원\n",
      " 치킨카레덮밥 4,300원\n",
      " 매운마라탕면 5,500원\n",
      " 등심돈가스 4,000원\n",
      " 뼈다귀감자탕전골 11,000원\n",
      " \n",
      "\n",
      "\n",
      "            220동식당(875-0240)           \n",
      " \n",
      "[뚝]얼큰만두전골&미트볼조림 4,000원\n",
      "몽골리안덮밥&포자만두튀김 4,500원\n",
      " \n",
      "[뚝]뼈다귀해장국&부추야채전 4,500원\n",
      "\n"
     ]
    }
   ],
   "source": [
    "for table_row in table_rows:\n",
    "    restaurant = table_row.find(class_ = 'views-field-field-restaurant').get_text()\n",
    "    breakfasts = table_row.find(class_ = 'views-field-field-breakfast')\n",
    "    \n",
    "        \n",
    "    \n",
    "    lunchs = table_row.find(class_ = 'views-field-field-lunch')\n",
    "    dinners = table_row.find(class_ = 'views-field-field-dinner')\n",
    "    \n",
    "    print(restaurant, breakfast, lunch, dinner)"
   ]
  },
  {
   "cell_type": "code",
   "execution_count": 46,
   "metadata": {},
   "outputs": [
    {
     "name": "stdout",
     "output_type": "stream",
     "text": [
      "\n",
      "            220동식당(875-0240)           \n",
      " \n",
      "닭맑은탕*당면사리&두부조림 4,000\n",
      "마라탕면&사모사튀김 4,500\n",
      " \n",
      "남도식호박전골&포자만두튀김 4,000\n",
      "나물볶음밥*계란후라이&네모두부적 4,500\n",
      "\n"
     ]
    }
   ],
   "source": [
    "print(restaurant, breakfast, lunch, dinner)"
   ]
  },
  {
   "cell_type": "code",
   "execution_count": 32,
   "metadata": {},
   "outputs": [],
   "source": [
    "tbody = soup.find('tbody')\n",
    "table_row = tbody.find_all('tr')"
   ]
  },
  {
   "cell_type": "code",
   "execution_count": 33,
   "metadata": {},
   "outputs": [
    {
     "data": {
      "text/plain": [
       "<tr class=\"odd views-row-first\">\n",
       "<td class=\"views-field views-field-field-restaurant\">\n",
       "            학생회관식당(880-5543)          </td>\n",
       "<td class=\"views-field views-field-field-breakfast\">\n",
       "<p>콩나물밥&amp;부추양념장(#)  1,700원</p>\n",
       "</td>\n",
       "<td class=\"views-field views-field-field-lunch\">\n",
       "<p>야끼도리덮밥&amp;국물떡볶이  5,500원<br/>\n",
       "꽁치무조림(#)  1,700원<br/>\n",
       "돌솥감자탕  3,000원</p>\n",
       "</td>\n",
       "<td class=\"views-field views-field-field-dinner\">\n",
       "<p>크림소스오므라이스  3,000원<br/>\n",
       "참치김치찌개(#)  1,700원</p>\n",
       "</td>\n",
       "</tr>"
      ]
     },
     "execution_count": 33,
     "metadata": {},
     "output_type": "execute_result"
    }
   ],
   "source": [
    "table_row[0]"
   ]
  },
  {
   "cell_type": "code",
   "execution_count": 49,
   "metadata": {},
   "outputs": [],
   "source": [
    "restaurant = table.find_all(class_ = \"views-field views-field-field-restaurant\")"
   ]
  },
  {
   "cell_type": "code",
   "execution_count": 75,
   "metadata": {},
   "outputs": [],
   "source": [
    "restaurant = [item.get_text() for item in soup.find_all(class_ = 'views-field views-field-field-restaurant')]"
   ]
  },
  {
   "cell_type": "code",
   "execution_count": 76,
   "metadata": {},
   "outputs": [
    {
     "name": "stdout",
     "output_type": "stream",
     "text": [
      "['\\n            식당          ', '\\n            학생회관식당(880-5543)          ', '\\n            자하연식당(880-7888)          ', '\\n            예술계식당(876-1006)          ', '\\n            소담마루(880-8698)          ', '\\n            샤반(871-6933)          ', '\\n            라운지오(882-7005)          ', '\\n            두레미담(880-9358)          ', '\\n            동원관식당(880-8697)          ', '\\n            기숙사식당(881-9072)          ', '\\n            공대간이식당(889-8956)          ', '\\n            감골식당(880-5544)          ', '\\n            4식당(889-6946)          ', '\\n            3식당(880-5545)          ', '\\n            302동식당(880-1939)          ', '\\n            301동식당(889-8955)          ', '\\n            220동식당(875-0240)          ']\n"
     ]
    }
   ],
   "source": [
    "print(restaurant)"
   ]
  },
  {
   "cell_type": "code",
   "execution_count": 82,
   "metadata": {},
   "outputs": [],
   "source": [
    "breakfast = [item.get_text() for item in soup.find_all(class_ = 'views-field views-field-field-breakfast')]"
   ]
  },
  {
   "cell_type": "code",
   "execution_count": 86,
   "metadata": {},
   "outputs": [],
   "source": [
    "lunch = [item.get_text() for item in soup.find_all(class_ = 'views-field views-field-field-lunch')]"
   ]
  },
  {
   "cell_type": "code",
   "execution_count": 83,
   "metadata": {},
   "outputs": [],
   "source": [
    "dinner = [item.get_text() for item in soup.find_all(class_ = 'views-field views-field-field-dinner')]"
   ]
  },
  {
   "cell_type": "code",
   "execution_count": 89,
   "metadata": {},
   "outputs": [
    {
     "name": "stdout",
     "output_type": "stream",
     "text": [
      "\n",
      "            자하연식당(880-7888)           \n",
      " \n",
      "인삼녹두영양닭죽 3,000원\n",
      "제육보쌈&막국수 4,000원\n",
      " \n",
      " \n",
      "만두김치전골 3,000원\n",
      "올리브스테이크 4,000원\n",
      "\n"
     ]
    }
   ],
   "source": [
    "print(restaurant[2], breakfast[2], lunch[2], dinner[2])"
   ]
  },
  {
   "cell_type": "code",
   "execution_count": 92,
   "metadata": {},
   "outputs": [],
   "source": [
    "def get_meal(i):\n",
    "    return print(restaurant[i], breakfast[i], lunch[i], dinner[i])"
   ]
  },
  {
   "cell_type": "code",
   "execution_count": 93,
   "metadata": {},
   "outputs": [
    {
     "name": "stdout",
     "output_type": "stream",
     "text": [
      "\n",
      "            샤반(871-6933)           \n",
      " \n",
      "한식 Serving 메뉴\n",
      " \n",
      "한식 Serving 메뉴\n",
      "\n"
     ]
    }
   ],
   "source": [
    "get_meal(5)"
   ]
  },
  {
   "cell_type": "code",
   "execution_count": 1,
   "metadata": {},
   "outputs": [],
   "source": [
    "breakfast = '제육숙주볶음\\xa0 1,700원'"
   ]
  },
  {
   "cell_type": "code",
   "execution_count": 2,
   "metadata": {},
   "outputs": [
    {
     "data": {
      "text/plain": [
       "['제육숙주볶음', ' 1,700원']"
      ]
     },
     "execution_count": 2,
     "metadata": {},
     "output_type": "execute_result"
    }
   ],
   "source": [
    "breakfast.split('\\xa0')"
   ]
  },
  {
   "cell_type": "code",
   "execution_count": 4,
   "metadata": {},
   "outputs": [
    {
     "data": {
      "text/plain": [
       "'제육숙주볶음\\xa0 1,700원'"
      ]
     },
     "execution_count": 4,
     "metadata": {},
     "output_type": "execute_result"
    }
   ],
   "source": [
    "breakfast.strip()"
   ]
  },
  {
   "cell_type": "code",
   "execution_count": 5,
   "metadata": {},
   "outputs": [
    {
     "data": {
      "text/plain": [
       "'제육숙주볶음 1,700원'"
      ]
     },
     "execution_count": 5,
     "metadata": {},
     "output_type": "execute_result"
    }
   ],
   "source": [
    "breakfast.replace('\\xa0', '')"
   ]
  },
  {
   "cell_type": "code",
   "execution_count": 7,
   "metadata": {},
   "outputs": [],
   "source": [
    "restaurant = '학생회관식당(880-5543'"
   ]
  },
  {
   "cell_type": "code",
   "execution_count": 10,
   "metadata": {},
   "outputs": [
    {
     "data": {
      "text/plain": [
       "'880-5543'"
      ]
     },
     "execution_count": 10,
     "metadata": {},
     "output_type": "execute_result"
    }
   ],
   "source": [
    "restaurant.split('(')[1]"
   ]
  },
  {
   "cell_type": "code",
   "execution_count": 11,
   "metadata": {},
   "outputs": [],
   "source": [
    "menu = '제육숙주볶음 1,700원'"
   ]
  },
  {
   "cell_type": "code",
   "execution_count": 17,
   "metadata": {},
   "outputs": [
    {
     "data": {
      "text/plain": [
       "'1,700원'"
      ]
     },
     "execution_count": 17,
     "metadata": {},
     "output_type": "execute_result"
    }
   ],
   "source": [
    "menu[-6:]"
   ]
  },
  {
   "cell_type": "code",
   "execution_count": 19,
   "metadata": {},
   "outputs": [
    {
     "data": {
      "text/plain": [
       "'제육숙주볶음'"
      ]
     },
     "execution_count": 19,
     "metadata": {},
     "output_type": "execute_result"
    }
   ],
   "source": [
    "menu[:-7]"
   ]
  },
  {
   "cell_type": "code",
   "execution_count": null,
   "metadata": {},
   "outputs": [],
   "source": []
  }
 ],
 "metadata": {
  "kernelspec": {
   "display_name": "Python 3",
   "language": "python",
   "name": "python3"
  },
  "language_info": {
   "codemirror_mode": {
    "name": "ipython",
    "version": 3
   },
   "file_extension": ".py",
   "mimetype": "text/x-python",
   "name": "python",
   "nbconvert_exporter": "python",
   "pygments_lexer": "ipython3",
   "version": "3.7.4"
  }
 },
 "nbformat": 4,
 "nbformat_minor": 4
}
